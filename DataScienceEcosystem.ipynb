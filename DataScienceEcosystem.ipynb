{
 "cells": [
  {
   "cell_type": "markdown",
   "id": "7472d46d-4a9f-4958-af30-9ce980c9ed34",
   "metadata": {},
   "source": [
    "Create markdown Cell with title of the notebook"
   ]
  },
  {
   "cell_type": "markdown",
   "id": "ebc2d7b3-386f-4cdb-b3de-8ec11c8240ec",
   "metadata": {},
   "source": [
    "# Data Science Tools and Ecosystem"
   ]
  },
  {
   "cell_type": "markdown",
   "id": "e93eb4a2-6217-4eb0-a5f4-aef42b67c4e6",
   "metadata": {},
   "source": [
    "Create a markdown cell for an introduction "
   ]
  },
  {
   "cell_type": "markdown",
   "id": "764f3c30-bd79-41d0-b817-509a4311dd3f",
   "metadata": {},
   "source": [
    "In this notebook, Data Science tools and ecosystems are summarized."
   ]
  },
  {
   "cell_type": "markdown",
   "id": "5c757f73-850d-4191-8f2d-4a69d45305da",
   "metadata": {
    "tags": []
   },
   "source": [
    "Create a markdown cell to list data science languages"
   ]
  },
  {
   "cell_type": "markdown",
   "id": "03eb903e-6e98-4633-81ea-d809f3913fef",
   "metadata": {
    "tags": []
   },
   "source": [
    "### Some of the popular languages that Data Scientists use are:\n",
    "    1. Python\n",
    "    2. R\n",
    "    3. SQL \n",
    "    4. Julia"
   ]
  },
  {
   "cell_type": "markdown",
   "id": "409cf360-a3f0-4787-936c-aacef65c13b7",
   "metadata": {
    "tags": []
   },
   "source": [
    "Create a markdown cell to list data science libraries"
   ]
  },
  {
   "cell_type": "markdown",
   "id": "0003aa12-fe66-4f8e-80f4-b1fd0a77ada7",
   "metadata": {},
   "source": [
    "### Some of the commonly used libraries used by Data Scientists include:\n",
    "1. Tensorflow\n",
    "2. MatplotLib\n",
    "3. Pandas\n",
    "4. Numpy "
   ]
  },
  {
   "cell_type": "markdown",
   "id": "68ea8412-f2ce-4a7d-914c-77e27102b79e",
   "metadata": {
    "jp-MarkdownHeadingCollapsed": true,
    "tags": []
   },
   "source": [
    "Create a markdown cell with a table of data science tools."
   ]
  },
  {
   "cell_type": "markdown",
   "id": "e7223ead-0443-4b1b-a7a5-15ca557ad562",
   "metadata": {},
   "source": [
    "| Data Science Tools |\n",
    "| ------------------ |\n",
    "| Git |\n",
    "| Hadoop |\n",
    "| Jupyter Notebooks |\n"
   ]
  },
  {
   "cell_type": "markdown",
   "id": "fab6b7bb-a4a2-40ab-8494-caf9c7c86a0a",
   "metadata": {},
   "source": [
    "Create a markdown cell introducting arithmetic expression examples"
   ]
  },
  {
   "cell_type": "markdown",
   "id": "39c0286a-9086-41a2-9793-a7849678b60a",
   "metadata": {
    "tags": []
   },
   "source": [
    "### Below are a few examples of evaluating arithmetic expressions in Python"
   ]
  },
  {
   "cell_type": "markdown",
   "id": "1a2749be-b922-4ea2-ab1f-43254a0c166e",
   "metadata": {},
   "source": [
    "Create a code cell to multiply and add numbers "
   ]
  },
  {
   "cell_type": "code",
   "execution_count": 3,
   "id": "442d35d8-9644-430a-abf9-3e494dd62306",
   "metadata": {
    "tags": []
   },
   "outputs": [
    {
     "data": {
      "text/plain": [
       "17"
      ]
     },
     "execution_count": 3,
     "metadata": {},
     "output_type": "execute_result"
    }
   ],
   "source": [
    "(3*4)+5\n",
    "#This is a simple arithmetic expression to multiply them add integers#"
   ]
  },
  {
   "cell_type": "markdown",
   "id": "ec019c72-8b99-4957-841b-30677d231752",
   "metadata": {},
   "source": [
    "Create a code cell to convert minutes to hours."
   ]
  },
  {
   "cell_type": "code",
   "execution_count": 4,
   "id": "28814ebc-a102-4e56-96f2-00037d331517",
   "metadata": {
    "tags": []
   },
   "outputs": [
    {
     "name": "stdout",
     "output_type": "stream",
     "text": [
      "3\n"
     ]
    }
   ],
   "source": [
    "minutes = 200  \n",
    "hours = 200 // 60 \n",
    "print (hours) "
   ]
  },
  {
   "cell_type": "markdown",
   "id": "bc5479fe-050d-4cf3-b5b4-b5a54eefdf7b",
   "metadata": {},
   "source": [
    "Insert a markdown cell to list Objectives"
   ]
  },
  {
   "cell_type": "markdown",
   "id": "7d1eb05e-8c7c-4484-90c0-eb7bd0a4aee5",
   "metadata": {},
   "source": [
    "**Objectives:**\n",
    "- List of Popular languages for Data Science\n",
    "- List of Commonly Used Libraries\n",
    "- Table of Data Science Tools\n",
    "- Arithmetic Expressions Sample\n"
   ]
  },
  {
   "cell_type": "markdown",
   "id": "71c0b14e-0f34-45d7-b93a-ab8fc1e70fd4",
   "metadata": {},
   "source": [
    "Create a Markdown cell to indicate the Author's name"
   ]
  },
  {
   "cell_type": "markdown",
   "id": "db1a58e8-d2b1-400b-8b82-c1a7b87cec2f",
   "metadata": {},
   "source": [
    "## Author\n",
    "#### E.M. Salarda"
   ]
  },
  {
   "cell_type": "code",
   "execution_count": null,
   "id": "0fbb899f-4308-49bf-853f-873a42c29963",
   "metadata": {},
   "outputs": [],
   "source": []
  }
 ],
 "metadata": {
  "kernelspec": {
   "display_name": "Python",
   "language": "python",
   "name": "conda-env-python-py"
  },
  "language_info": {
   "codemirror_mode": {
    "name": "ipython",
    "version": 3
   },
   "file_extension": ".py",
   "mimetype": "text/x-python",
   "name": "python",
   "nbconvert_exporter": "python",
   "pygments_lexer": "ipython3",
   "version": "3.7.12"
  }
 },
 "nbformat": 4,
 "nbformat_minor": 5
}
